{
 "cells": [
  {
   "cell_type": "code",
   "execution_count": 5,
   "id": "05466516-e1f4-4b95-8946-2110f56ac33b",
   "metadata": {},
   "outputs": [],
   "source": [
    "import os\n",
    "import requests\n",
    "import logging\n",
    "from PIL import Image, ImageDraw, ImageFont\n",
    "from reportlab.pdfgen import canvas\n",
    "from reportlab.lib.pagesizes import letter\n",
    "from reportlab.lib.units import inch\n",
    "from reportlab.lib.colors import black, white\n",
    "from reportlab.lib.colors import HexColor\n",
    "import random\n"
   ]
  },
  {
   "cell_type": "code",
   "execution_count": 6,
   "id": "5da02c24-d1e8-42a5-a20c-8ff2f4d8b304",
   "metadata": {},
   "outputs": [],
   "source": [
    "class MangaStoryGenerator:\n",
    "    def __init__(self, phi3_token):\n",
    "        \n",
    "        self.logger = logging.getLogger(__name__)\n",
    "        self.phi3_url = \"https://cu-vertical-dimensional-continuity.trycloudflare.com/phi3/generate\"\n",
    "        self.phi3_token = phi3_token\n",
    "\n",
    "    def generate_story_outline(self, prompt, max_chapters=3, max_tokens=750):\n",
    "    \n",
    "        headers = {\n",
    "            \"Authorization\": f\"Bearer {self.phi3_token}\",\n",
    "            \"Content-Type\": \"application/json\"\n",
    "        }\n",
    "        \n",
    "        payload = {\n",
    "            \"inputs\":f\"<|system|>\\n You are a creative manga story writer generating a {max_chapters}- scene manga comic strips.\\n\"\n",
    "                    \"Include compelling dialogues.\"\n",
    "                    \"Ensure narrative flow and character development.\"\n",
    "                    \"Maintain consistent tone and progression.\"\n",
    "                    \"Focus on maintaining narrative continuity and dramatic progression.<|end|>\\n\"\n",
    "                    f\"<|user|>\\n{prompt}<|end|>\\n<|assistant|>\",\n",
    "                    \"parameters\": {\n",
    "                        \"max_new_tokens\": max_tokens,\n",
    "                        \"temperature\": 0.7\n",
    "                    }\n",
    "        }\n",
    "        \n",
    "        try:\n",
    "            response = requests.post(self.phi3_url, headers=headers, json=payload)\n",
    "            response.raise_for_status()\n",
    "            \n",
    "            story_outline = response.json().get(\"generated_text\", \"\").split(\"\\n\")\n",
    "            story_outline = [line.strip() for line in story_outline if line.strip()]\n",
    "            \n",
    "            self.logger.info(f\"Generated story outline with {len(story_outline)} scenes\")\n",
    "            return story_outline\n",
    "        \n",
    "        except requests.exceptions.RequestException as e:\n",
    "            self.logger.error(f\"Story generation failed: {e}\")\n",
    "            return []"
   ]
  },
  {
   "cell_type": "code",
   "execution_count": 7,
   "id": "d992b418-0626-4482-a684-17255a71eee9",
   "metadata": {},
   "outputs": [],
   "source": [
    "class MangaImageGenerator:\n",
    "    def __init__(self, flux_token, output_dir=\"manga_output\"):\n",
    "        \"\"\"\n",
    "        Initialize Image Generator\n",
    "        \n",
    "        :param flux_token: Authentication token for image generation\n",
    "        :param output_dir: Directory to store generated images\n",
    "        \"\"\"\n",
    "        self.logger = logging.getLogger(__name__)\n",
    "        self.flux_url = \"https://maintained-thai-filter-four.trycloudflare.com/imagine/generate\"\n",
    "        self.flux_token = flux_token\n",
    "        self.output_dir = output_dir\n",
    "        os.makedirs(self.output_dir, exist_ok=True)\n",
    "\n",
    "    def generate_scene_images(self, scenes):\n",
    "        \"\"\"\n",
    "        Generate manga-style scene images for multiple scenes\n",
    "        \n",
    "        :param scenes: List of scene descriptions\n",
    "        :return: List of image paths\n",
    "        \"\"\"\n",
    "        images = []\n",
    "        \n",
    "        for scene in scenes:\n",
    "            image_path = self.generate_single_scene_image(scene)\n",
    "            if image_path:\n",
    "                images.append(image_path)\n",
    "        \n",
    "        return images\n",
    "\n",
    "    def generate_single_scene_image(self, scene_description):\n",
    "        \"\"\"\n",
    "        Generate a single manga-style scene image\n",
    "        \n",
    "        :param scene_description: Textual description of the scene\n",
    "        :return: Path to generated image\n",
    "        \"\"\"\n",
    "        headers = {\n",
    "            \"Authorization\": f\"Bearer {self.flux_token}\",\n",
    "            \"Content-Type\": \"application/json\"\n",
    "        }\n",
    "        prompt = f\"Cinematic manage comic strip 1-3 images/panel: {scene_description.replace('*', '')}.\"+ \"Animeart style,dynamic composition, emotional storytelling, vibrant colors, detailed characters, sequential art flow.\"\n",
    "        if len(prompt) > 200:\n",
    "            prompt = prompt.replace(' ', '')\n",
    "        payload = {\n",
    "            \"prompt\": prompt[:200],\n",
    "            \"img_size\": 768,\n",
    "            \"guidance_scale\": 8.5,\n",
    "            \"num_inference_steps\": 50,\n",
    "            \"negative_prompt\": \"low quality, blurry, sketch, draft\"\n",
    "        }\n",
    "        \n",
    "        try:\n",
    "            print(scene_description)\n",
    "            response = requests.post(self.flux_url, headers=headers, json=payload)\n",
    "            response.raise_for_status()\n",
    "            \n",
    "            output_path = os.path.join(\n",
    "                self.output_dir, \n",
    "                f\"scene_{len(os.listdir(self.output_dir))}.png\"\n",
    "            )\n",
    "            \n",
    "            with open(output_path, \"wb\") as f:\n",
    "                f.write(response.content)\n",
    "            \n",
    "            self.logger.info(f\"Generated scene image: {output_path}\")\n",
    "            return output_path\n",
    "        \n",
    "        except requests.exceptions.RequestException as e:\n",
    "            self.logger.error(f\"Image generation error: {e}\")\n",
    "            return None\n"
   ]
  },
  {
   "cell_type": "code",
   "execution_count": 9,
   "id": "b464a57c-54ed-454e-8d7f-29f43bb16cd7",
   "metadata": {},
   "outputs": [],
   "source": [
    "import os\n",
    "import logging\n",
    "import random\n",
    "import re\n",
    "\n",
    "class MangaPDFGenerator:\n",
    "    def __init__(self, output_dir=\"manga_output\"):\n",
    "        \"\"\"\n",
    "        Initialize PDF Generator with manga-specific layout configurations\n",
    "        \n",
    "        :param output_dir: Directory to store generated PDFs\n",
    "        \"\"\"\n",
    "        self.logger = logging.getLogger(__name__)\n",
    "        self.output_dir = output_dir\n",
    "        os.makedirs(self.output_dir, exist_ok=True)\n",
    "        \n",
    "        # Predefined color palettes for backgrounds and bubbles\n",
    "        self.background_colors = [\n",
    "            '#F0F4F8', '#E6F2FF', '#E6FFFA', '#FFF5E6', \n",
    "            '#F0E6FF', '#FFEBEE', '#E8F5E9', '#FFF3E0'\n",
    "        ]\n",
    "        \n",
    "        self.bubble_colors = [\n",
    "            '#FFFFFF', '#F0F0F0', '#E6E6FA', '#F0FFFF', \n",
    "            '#FFF0F5', '#F5F5DC', '#F0FFF0', '#FAFAD2'\n",
    "        ]\n",
    "    def _get_random_color(self, color_palette):\n",
    "        \"\"\"\n",
    "        Get a random color from the given palette\n",
    "        \n",
    "        :param color_palette: List of color hex codes\n",
    "        :return: Randomly selected color\n",
    "        \"\"\"\n",
    "        return random.choice(color_palette)\n",
    "    def _preprocess_text(self, text):\n",
    "        \"\"\"\n",
    "        Preprocess text to remove unwanted elements\n",
    "        \n",
    "        :param text: Input text\n",
    "        :return: Cleaned text\n",
    "        \"\"\"\n",
    "        # Remove text in parentheses or brackets\n",
    "        text = re.sub(r'\\[.*?\\]|\\(.*?\\)', '', text)\n",
    "        \n",
    "        # Remove scene labels\n",
    "        text = re.sub(r'^scene\\s*\\d+\\s*:\\s*', '', text, flags=re.IGNORECASE)\n",
    "        \n",
    "        # Strip leading/trailing whitespace\n",
    "        text = text.strip()\n",
    "        \n",
    "        return text\n",
    "    def _load_manga_fonts(self, c):\n",
    "        \"\"\"\n",
    "        Register custom manga-style fonts\n",
    "        \n",
    "        :param c: Canvas object\n",
    "        :return: Dictionary of registered fonts\n",
    "        \"\"\"\n",
    "        try:\n",
    "            # Register custom manga-style fonts\n",
    "            pdfmetrics.registerFont(TTFont('MangaFont', './Fonts/mangat.ttf'))\n",
    "            pdfmetrics.registerFont(TTFont('DialogueFont', './Fonts/Dialogue-A-Light-Italic.ttf'))\n",
    "            \n",
    "            return {\n",
    "                'title': 'MangaFont',\n",
    "                'dialogue': 'DialogueFont'\n",
    "            }\n",
    "        except Exception as e:\n",
    "            self.logger.warning(f\"Custom font registration failed: {e}\")\n",
    "            return {\n",
    "                'title': 'Helvetica-Bold',\n",
    "                'dialogue': 'Helvetica'\n",
    "            }\n",
    "    def _smart_wrap_text(self, text, max_width, font_name, font_size, max_lines=4):\n",
    "        \"\"\"\n",
    "        Intelligently wrap text to fit within a specified width\n",
    "        \n",
    "        :param text: Input text\n",
    "        :param max_width: Maximum width of the text area\n",
    "        :param font_name: Name of the font\n",
    "        :param font_size: Size of the font\n",
    "        :param max_lines: Maximum number of lines allowed\n",
    "        :return: List of wrapped text lines\n",
    "        \"\"\"\n",
    "        words = text.split()\n",
    "        lines = []\n",
    "        current_line = []\n",
    "\n",
    "        for word in words:\n",
    "            # Check if adding this word would exceed max width\n",
    "            test_line = ' '.join(current_line + [word])\n",
    "            line_width = stringWidth(test_line, font_name, font_size)\n",
    "            \n",
    "            if line_width <= max_width:\n",
    "                current_line.append(word)\n",
    "            else:\n",
    "                # If line is not empty, add current line and start a new one\n",
    "                if current_line:\n",
    "                    lines.append(' '.join(current_line))\n",
    "                current_line = [word]\n",
    "\n",
    "            # Stop if we've reached max lines\n",
    "            if len(lines) >= max_lines:\n",
    "                break\n",
    "\n",
    "        # Add any remaining words to the last line\n",
    "        if current_line and len(lines) < max_lines:\n",
    "            lines.append(' '.join(current_line))\n",
    "\n",
    "        # Truncate to max lines and add ellipsis if needed\n",
    "        if len(lines) > max_lines:\n",
    "            lines = lines[:max_lines]\n",
    "            lines[-1] += '...'\n",
    "\n",
    "        return lines\n",
    "    def _create_scene_border(self, c, x, y, width, height, scene_bg_color=None):\n",
    "        \"\"\"\n",
    "        Create a decorative border for a manga scene\n",
    "        \n",
    "        :param c: Canvas object\n",
    "        :param x: X coordinate of scene\n",
    "        :param y: Y coordinate of scene\n",
    "        :param width: Scene width\n",
    "        :param height: Scene height\n",
    "        :param scene_bg_color: Background color for the scene\n",
    "        \"\"\"\n",
    "        # Scene background\n",
    "        if scene_bg_color:\n",
    "            c.setFillColor(HexColor(scene_bg_color))\n",
    "            c.rect(x, y, width, height, fill=1, stroke=0)\n",
    "        \n",
    "        # Manga-style border with rough, hand-drawn effect\n",
    "        c.setStrokeColor(HexColor('#333333'))\n",
    "        c.setLineWidth(1.5)\n",
    "        \n",
    "        # Slightly irregular border with padding\n",
    "        border_padding = 5\n",
    "        c.line(x + border_padding, y + border_padding, x + width - border_padding, y + border_padding)\n",
    "        c.line(x + width - border_padding, y + border_padding, x + width - border_padding, y + height - border_padding)\n",
    "        c.line(x + width - border_padding, y + height - border_padding, x + border_padding, y + height - border_padding)\n",
    "        c.line(x + border_padding, y + height - border_padding, x + border_padding, y + border_padding)\n",
    "    def _create_speech_bubble(self, c, x, y, text, max_width=200, padding=10, bg_color='#F0F0F0', is_narration=False):\n",
    "        \"\"\"\n",
    "        Create a manga-style speech bubble or narration box\n",
    "        \n",
    "        :param c: Canvas object\n",
    "        :param x: X coordinate\n",
    "        :param y: Y coordinate\n",
    "        :param text: Text content\n",
    "        :param max_width: Maximum width of the bubble\n",
    "        :param padding: Padding inside the bubble\n",
    "        :param bg_color: Background color of the bubble\n",
    "        :param is_narration: Flag to indicate narration style\n",
    "        :return: Height of the created bubble\n",
    "        \"\"\"\n",
    "        # Preprocess text\n",
    "        text = self._preprocess_text(text)\n",
    "        \n",
    "        # Determine font based on narration status\n",
    "        font_name = 'DialogueFont' if not is_narration else 'Helvetica-Oblique'\n",
    "        font_size = 10\n",
    "        \n",
    "        # Wrap text to fit within bubble\n",
    "        wrapped_text = self._smart_wrap_text(\n",
    "            text, \n",
    "            max_width - 2*padding, \n",
    "            font_name, \n",
    "            font_size,\n",
    "            max_lines=4  # Limit to 4 lines\n",
    "        )\n",
    "        \n",
    "        # Calculate bubble dimensions\n",
    "        text_height = len(wrapped_text) * 15\n",
    "        bubble_width = max_width\n",
    "        bubble_height = text_height + 2 * padding\n",
    "        \n",
    "        # Draw bubble with hand-drawn style\n",
    "        c.setFillColor(HexColor(bg_color))\n",
    "        c.setStrokeColor(black)\n",
    "        \n",
    "        # Slightly irregular bubble shape\n",
    "        c.saveState()\n",
    "        c.translate(x, y)\n",
    "        c.rotate(random.uniform(-2, 2))  # Slight rotation for hand-drawn effect\n",
    "        \n",
    "        # Create different shapes for dialogue and narration\n",
    "        path = c.beginPath()\n",
    "        if is_narration:\n",
    "            # Narration box with softer edges\n",
    "            path.moveTo(10, 0)\n",
    "            path.lineTo(bubble_width - 10, 0)\n",
    "            path.curveTo(bubble_width, 0, bubble_width, 10, bubble_width, 20)\n",
    "            path.lineTo(bubble_width, bubble_height - 10)\n",
    "            path.curveTo(bubble_width, bubble_height, bubble_width - 10, bubble_height, bubble_width - 20, bubble_height)\n",
    "            path.lineTo(10, bubble_height)\n",
    "            path.curveTo(0, bubble_height, 0, bubble_height - 10, 0, bubble_height - 20)\n",
    "            path.lineTo(0, 10)\n",
    "            path.curveTo(0, 0, 10, 0, 20, 0)\n",
    "        else:\n",
    "            # Speech bubble with pointer\n",
    "            path.moveTo(0, 0)\n",
    "            path.lineTo(bubble_width, 0)\n",
    "            path.lineTo(bubble_width, bubble_height)\n",
    "            \n",
    "            # Add a small pointer to simulate speech direction\n",
    "            path.lineTo(bubble_width - 20, bubble_height)\n",
    "            path.lineTo(bubble_width - 40, bubble_height + 20)\n",
    "            path.lineTo(bubble_width - 60, bubble_height)\n",
    "            path.lineTo(0, bubble_height)\n",
    "        path.close()\n",
    "        \n",
    "        c.drawPath(path, fill=1, stroke=1)\n",
    "        \n",
    "        # Add text\n",
    "        c.setFont(font_name, font_size)\n",
    "        c.setFillColor(black)\n",
    "        \n",
    "        text_object = c.beginText(padding, padding)\n",
    "        for line in wrapped_text:\n",
    "            text_object.textLine(line)\n",
    "        c.drawText(text_object)\n",
    "        \n",
    "        c.restoreState()\n",
    "        \n",
    "        return bubble_height + 2 * padding  # Total bubble height including padding\n",
    "\n",
    "    def create_manga_pdf(self, images, texts, is_narration=None):\n",
    "        \"\"\"\n",
    "        Create a professional manga-style PDF with single image per page\n",
    "        \n",
    "        :param images: List of image paths\n",
    "        :param texts: List of corresponding texts (dialogue or narration)\n",
    "        :param is_narration: Optional list of boolean flags to indicate narration\n",
    "        :return: Path to generated PDF\n",
    "        \"\"\"\n",
    "        # Validate input\n",
    "        #if len(images) != len(texts):\n",
    "            #raise ValueError(\"Number of images must match number of texts\")\n",
    "        \n",
    "        # Default narration flags if not provided\n",
    "        if is_narration is None:\n",
    "            is_narration = [False] * len(texts)\n",
    "        elif len(is_narration) != len(texts):\n",
    "            raise ValueError(\"Number of narration flags must match number of texts\")\n",
    "        \n",
    "        pdf_path = os.path.join(self.output_dir, \"manga_series.pdf\")\n",
    "        c = canvas.Canvas(pdf_path, pagesize=letter)\n",
    "        width, height = letter\n",
    "        \n",
    "        # Margins and padding\n",
    "        margin_x = inch * 1\n",
    "        margin_y = inch * 1\n",
    "        \n",
    "        # Image sizing (70% of page)\n",
    "        image_width = width * 0.7\n",
    "        image_height = height * 0.7\n",
    "        \n",
    "        # Image positioning (centered)\n",
    "        image_x = (width - image_width) / 2\n",
    "        image_y = (height - image_height - inch) / 2\n",
    "        \n",
    "        # Load fonts\n",
    "        fonts = self._load_manga_fonts(c)\n",
    "        \n",
    "        # Iterate through images\n",
    "        for page_num, (img_path, text, narration) in enumerate(zip(images, texts, is_narration)):\n",
    "            # Page background\n",
    "            c.setFillColor(HexColor('#F5F5F5'))\n",
    "            c.rect(0, 0, width, height, fill=1, stroke=0)\n",
    "            \n",
    "            # Add chapter title\n",
    "            c.setFont(fonts['title'], 16)\n",
    "            c.drawString(margin_x, height - margin_y/2, f\"Chapter {page_num + 1}\")\n",
    "            \n",
    "            # Background color for scene\n",
    "            scene_bg_color = self._get_random_color(self.background_colors)\n",
    "            bubble_color = self._get_random_color(self.bubble_colors)\n",
    "            \n",
    "            # Create scene border\n",
    "            self._create_scene_border(\n",
    "                c, image_x, image_y, \n",
    "                image_width, image_height, \n",
    "                scene_bg_color\n",
    "            )\n",
    "            \n",
    "            # Add image\n",
    "            c.saveState()\n",
    "            c.translate(image_x, image_y)\n",
    "            c.rotate(random.uniform(-1, 1))\n",
    "            c.drawImage(\n",
    "                img_path, \n",
    "                0, 0, \n",
    "                width=image_width, \n",
    "                height=image_height\n",
    "            )\n",
    "            c.restoreState()\n",
    "            \n",
    "            # Add speech bubble\n",
    "            bubble_height = self._create_speech_bubble(\n",
    "                c, \n",
    "                x=image_x, \n",
    "                y=image_y - 1*inch, \n",
    "                text=text,\n",
    "                max_width=image_width,\n",
    "                bg_color=bubble_color,\n",
    "                is_narration=narration\n",
    "            )\n",
    "            \n",
    "            # Add page number\n",
    "            c.setFont('Helvetica', 10)\n",
    "            c.setFillColor(black)\n",
    "            c.drawRightString(width - margin_x/2, margin_y/2, f\"Page {page_num + 1}\")\n",
    "            \n",
    "            c.showPage()\n",
    "\n",
    "        c.save()\n",
    "        self.logger.info(f\"Manga PDF created at {pdf_path}\")\n",
    "        return pdf_path"
   ]
  },
  {
   "cell_type": "code",
   "execution_count": 10,
   "id": "3edaa96a-5d36-4e9b-a405-94a083de8097",
   "metadata": {},
   "outputs": [],
   "source": [
    "class MangaGenerator:\n",
    "    def __init__(self, phi3_token, flux_token, output_dir=\"manga_output\"):\n",
    "        \"\"\"\n",
    "        Comprehensive Manga Generation\n",
    "        \n",
    "        :param phi3_token: Token for story generation\n",
    "        :param flux_token: Token for image generation\n",
    "        :param output_dir: Output directory for manga assets\n",
    "        \"\"\"\n",
    "        # Configure logging\n",
    "        logging.basicConfig(\n",
    "            level=logging.INFO,\n",
    "            format='%(asctime)s - %(levelname)s: %(message)s'\n",
    "        )\n",
    "        \n",
    "        self.story_generator = MangaStoryGenerator(phi3_token)\n",
    "        self.image_generator = MangaImageGenerator(flux_token, output_dir)\n",
    "        self.pdf_generator = MangaPDFGenerator(output_dir)\n",
    "\n",
    "    def generate_manga(self, prompt, max_chapters=6):\n",
    "        \"\"\"\n",
    "        Comprehensive manga generation workflow\n",
    "        \n",
    "        :param prompt: Story concept\n",
    "        :param max_chapters: Number of chapters\n",
    "        :return: Path to generated PDF\n",
    "        \"\"\"\n",
    "        # Generate story outline\n",
    "        story_outline = self.story_generator.generate_story_outline(prompt, max_chapters)\n",
    "        \n",
    "        if not story_outline:\n",
    "            logging.error(\"No story outline generated. Exiting.\")\n",
    "            return None\n",
    "        \n",
    "        # Generate scene images\n",
    "        scene_images = self.image_generator.generate_scene_images(story_outline)\n",
    "        \n",
    "        # Create manga PDF\n",
    "        print(scene_images)\n",
    "        print(story_outline)\n",
    "        manga_pdf = self.pdf_generator.create_manga_pdf(scene_images, story_outline)\n",
    "        \n",
    "        return manga_pdf"
   ]
  },
  {
   "cell_type": "code",
   "execution_count": 13,
   "id": "cdebdbc3-6115-4f65-b9f8-4377851ee611",
   "metadata": {},
   "outputs": [],
   "source": [
    "def main():\n",
    "    PHI3_TOKEN = \"AEulafWZQ1xhIkeLgjcp5nhL7d0cLPWiXAU34DTVvXI\"  # Replace with actual token\n",
    "    FLUX_TOKEN = \"calm-bold-tree-bd1b1c8bc141403231e7f0a8\" \n",
    "\n",
    "    # Story prompt\n",
    "    prompt = \"In a postapocaluptic world, humans have in to a multi solar system species across the galaxy they fight each other and will they co-operate to defend againt gaint humanoid aliens\" \n",
    "    # Initialize and generate manga\n",
    "    manga_generator = MangaGenerator(PHI3_TOKEN, FLUX_TOKEN)\n",
    "    manga_pdf = manga_generator.generate_manga(prompt)\n",
    "    \n",
    "    if manga_pdf:\n",
    "        print(f\"Manga PDF generated: {manga_pdf}\")\n",
    "\n"
   ]
  },
  {
   "cell_type": "code",
   "execution_count": null,
   "id": "6d6468e4-6b34-48be-a7ff-5ee0906648db",
   "metadata": {},
   "outputs": [
    {
     "name": "stderr",
     "output_type": "stream",
     "text": [
      "2024-12-18 22:54:24,516 - INFO: Generated story outline with 31 scenes\n"
     ]
    },
    {
     "name": "stdout",
     "output_type": "stream",
     "text": [
      "**Title:** \"Harmony Amongst the Stars\"\n"
     ]
    },
    {
     "name": "stderr",
     "output_type": "stream",
     "text": [
      "2024-12-18 22:54:52,174 - INFO: Generated scene image: manga_output/scene_0.png\n"
     ]
    },
    {
     "name": "stdout",
     "output_type": "stream",
     "text": [
      "**Characters:**\n"
     ]
    },
    {
     "name": "stderr",
     "output_type": "stream",
     "text": [
      "2024-12-18 22:55:19,764 - INFO: Generated scene image: manga_output/scene_1.png\n"
     ]
    },
    {
     "name": "stdout",
     "output_type": "stream",
     "text": [
      "- **Lena**: A compassionate and intelligent pilot from Earth.\n"
     ]
    },
    {
     "name": "stderr",
     "output_type": "stream",
     "text": [
      "2024-12-18 22:55:47,426 - INFO: Generated scene image: manga_output/scene_2.png\n"
     ]
    },
    {
     "name": "stdout",
     "output_type": "stream",
     "text": [
      "- **Kiro**: A stoic and wise engineer from Mars, proud of his roots.\n"
     ]
    },
    {
     "name": "stderr",
     "output_type": "stream",
     "text": [
      "2024-12-18 22:56:15,207 - INFO: Generated scene image: manga_output/scene_3.png\n"
     ]
    },
    {
     "name": "stdout",
     "output_type": "stream",
     "text": [
      "- **Zyra**: A fierce and charismatic warrior from Venus, with a knack for diplomacy.\n"
     ]
    },
    {
     "name": "stderr",
     "output_type": "stream",
     "text": [
      "2024-12-18 22:56:42,635 - INFO: Generated scene image: manga_output/scene_4.png\n"
     ]
    },
    {
     "name": "stdout",
     "output_type": "stream",
     "text": [
      "- **Gantos**: A mysterious and enigmatic leader from Jupiter, with a past shrouded in secrecy.\n"
     ]
    },
    {
     "name": "stderr",
     "output_type": "stream",
     "text": [
      "2024-12-18 22:57:10,515 - INFO: Generated scene image: manga_output/scene_5.png\n"
     ]
    },
    {
     "name": "stdout",
     "output_type": "stream",
     "text": [
      "**Scene 1: The Brink of War**\n"
     ]
    },
    {
     "name": "stderr",
     "output_type": "stream",
     "text": [
      "2024-12-18 22:57:37,731 - INFO: Generated scene image: manga_output/scene_6.png\n"
     ]
    },
    {
     "name": "stdout",
     "output_type": "stream",
     "text": [
      "*Setting: A large interstellar council meeting room with representatives from various solar system species.*\n"
     ]
    },
    {
     "name": "stderr",
     "output_type": "stream",
     "text": [
      "2024-12-18 22:58:05,553 - INFO: Generated scene image: manga_output/scene_7.png\n"
     ]
    },
    {
     "name": "stdout",
     "output_type": "stream",
     "text": [
      "*Lena sits nervously beside Kiro and Zyra, while Gantos, standing behind a grand desk, addresses the room.*\n"
     ]
    },
    {
     "name": "stderr",
     "output_type": "stream",
     "text": [
      "2024-12-18 22:58:32,795 - INFO: Generated scene image: manga_output/scene_8.png\n"
     ]
    },
    {
     "name": "stdout",
     "output_type": "stream",
     "text": [
      "**Gantos:** (assertively) \"We cannot let this continue. The time for peace is over. The threat from the Great Humanoids grows stronger with each passing day. We must band together, pool our resources, and prepare for an inevitable war!\"\n"
     ]
    },
    {
     "name": "stderr",
     "output_type": "stream",
     "text": [
      "2024-12-18 22:59:00,435 - INFO: Generated scene image: manga_output/scene_9.png\n"
     ]
    },
    {
     "name": "stdout",
     "output_type": "stream",
     "text": [
      "*Lena speaks up, attempting to mediate.*\n"
     ]
    },
    {
     "name": "stderr",
     "output_type": "stream",
     "text": [
      "2024-12-18 22:59:28,280 - INFO: Generated scene image: manga_output/scene_10.png\n"
     ]
    },
    {
     "name": "stdout",
     "output_type": "stream",
     "text": [
      "**Lena:** \"Gentlemen, war is not our only option. We must not forget the lessons of history. Perhaps there is a way for us all to coexist peacefully.\"\n"
     ]
    },
    {
     "name": "stderr",
     "output_type": "stream",
     "text": [
      "2024-12-18 22:59:55,816 - INFO: Generated scene image: manga_output/scene_11.png\n"
     ]
    },
    {
     "name": "stdout",
     "output_type": "stream",
     "text": [
      "*Kiro nods in agreement, while Zyra's eyes shine with determination.*\n"
     ]
    },
    {
     "name": "stderr",
     "output_type": "stream",
     "text": [
      "2024-12-18 23:00:23,499 - INFO: Generated scene image: manga_output/scene_12.png\n"
     ]
    },
    {
     "name": "stdout",
     "output_type": "stream",
     "text": [
      "**Kiro:** \"And what of our children, Lena? What future will they inherit if we choose to fight amongst ourselves?\"\n"
     ]
    },
    {
     "name": "stderr",
     "output_type": "stream",
     "text": [
      "2024-12-18 23:00:50,630 - INFO: Generated scene image: manga_output/scene_13.png\n"
     ]
    },
    {
     "name": "stdout",
     "output_type": "stream",
     "text": [
      "*As the tension in the room grows, Lena decides to stay after the meeting to find common ground and prevent war.*\n"
     ]
    },
    {
     "name": "stderr",
     "output_type": "stream",
     "text": [
      "2024-12-18 23:01:18,244 - INFO: Generated scene image: manga_output/scene_14.png\n"
     ]
    },
    {
     "name": "stdout",
     "output_type": "stream",
     "text": [
      "---\n"
     ]
    },
    {
     "name": "stderr",
     "output_type": "stream",
     "text": [
      "2024-12-18 23:01:45,405 - INFO: Generated scene image: manga_output/scene_15.png\n"
     ]
    },
    {
     "name": "stdout",
     "output_type": "stream",
     "text": [
      "**Scene 2: The Secret Alliance**\n"
     ]
    },
    {
     "name": "stderr",
     "output_type": "stream",
     "text": [
      "2024-12-18 23:02:12,622 - INFO: Generated scene image: manga_output/scene_16.png\n"
     ]
    },
    {
     "name": "stdout",
     "output_type": "stream",
     "text": [
      "*Setting: A concealed meeting location on an asteroid, with Lena, Kiro, and Zyra.*\n"
     ]
    },
    {
     "name": "stderr",
     "output_type": "stream",
     "text": [
      "2024-12-18 23:02:40,349 - INFO: Generated scene image: manga_output/scene_17.png\n"
     ]
    },
    {
     "name": "stdout",
     "output_type": "stream",
     "text": [
      "*Gantos, alarmed by their actions, sends his fleet to intercept them.*\n"
     ]
    }
   ],
   "source": [
    "if __name__ == \"__main__\":\n",
    "    main()"
   ]
  }
 ],
 "metadata": {
  "kernelspec": {
   "display_name": "Python 3",
   "language": "python",
   "name": "python3"
  },
  "language_info": {
   "codemirror_mode": {
    "name": "ipython",
    "version": 3
   },
   "file_extension": ".py",
   "mimetype": "text/x-python",
   "name": "python",
   "nbconvert_exporter": "python",
   "pygments_lexer": "ipython3",
   "version": "3.9.6"
  }
 },
 "nbformat": 4,
 "nbformat_minor": 5
}
